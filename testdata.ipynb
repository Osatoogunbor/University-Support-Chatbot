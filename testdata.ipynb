{
 "cells": [
  {
   "cell_type": "code",
   "execution_count": 7,
   "id": "22c7e9b7",
   "metadata": {},
   "outputs": [
    {
     "name": "stdout",
     "output_type": "stream",
     "text": [
      "                                          User Query  \\\n",
      "0  I’m feeling overwhelmed with coursework deadli...   \n",
      "1  How can I balance studies and personal life wi...   \n",
      "\n",
      "                                 Reference Responses  \\\n",
      "0  [Try breaking tasks into smaller steps and set...   \n",
      "1  [Setting boundaries is key. Allocate specific ...   \n",
      "\n",
      "                                 Candidate Responses  \n",
      "0  Create a Master Calendar: Use a digital tool l...  \n",
      "1  Create a Structured Daily Schedule: Designate ...  \n"
     ]
    }
   ],
   "source": [
    "import pandas as pd\n",
    "# Example test data as a list of dictionaries\n",
    "test_data = [\n",
    "    {\n",
    "        \"User Query\": \"I’m feeling overwhelmed with coursework deadlines. What should I do?\",\n",
    "        \"Reference Responses\": [\n",
    "            \"Try breaking tasks into smaller steps and setting realistic deadlines. Also, consider speaking with your professor for extensions if needed.\",\n",
    "            \"Managing coursework can be stressful. Try using a planner to prioritize tasks and allocate dedicated time slots for each assignment.\",\n",
    "            \"Overwhelm is normal during busy periods. Take breaks, use the Pomodoro technique, and seek academic support if necessary.\"\n",
    "        ],\n",
    "        \"Candidate Responses\": \n",
    "\"Create a Master Calendar: Use a digital tool like Google Calendar to note down all your deadlines. This will give you a clear overview of what needs to be done and when.\"\n",
    "\"Break Large Assignments into Smaller Tasks: If you have multiple assignments due in a week, break each one into smaller tasks such as research, outline, draft, and edit. This will make the tasks seem less daunting and more manageable.\"\n",
    "\"Use Time-Blocking Techniques: Allocate specific time blocks for each task in your calendar. For instance, you could dedicate Monday morning to researching Assignment 1 and Monday afternoon to outlining Assignment 2.\"\n",
    "\"Set Up Reminder Systems: Use your digital calendar or planner to set reminders for deadlines. This will ensure that you don't forget any important dates.\"\n",
    "\"Create a Dedicated Study Schedule: Plan your study periods and stick to them. This will help you to stay focused and make the most of your study time.\"\n",
    "\"Maintain Separate Folders for Each Course: This will help you to stay organized and easily locate the materials you need for each assignment.\"\n",
    "},\n",
    "    {\n",
    "        \"User Query\": \"How can I balance studies and personal life without feeling guilty?\",\n",
    "        \"Reference Responses\": [\n",
    "            \"Setting boundaries is key. Allocate specific study hours and dedicate time to personal activities guilt-free.\",\n",
    "            \"Academic success depends on balance. Plan your schedule to ensure you have time for rest and social activities.\",\n",
    "            \"Feeling guilty is common, but self-care improves productivity. Treat breaks as necessary, not a distraction.\"\n",
    "        ],\n",
    "        \"Candidate Responses\": \"Create a Structured Daily Schedule: Designate specific hours for studying, for example, from 9 AM to 6 PM. This helps to create a clear distinction between your study time and personal time, allowing you to fully focus on each aspect without feeling guilty about neglecting the other.\"\n",
    "\"Set Boundaries for Study and Personal Time: Protect your evening time for relaxation, hobbies, or socializing. This helps to ensure that you have sufficient time to unwind and recharge, which is crucial for maintaining your mental health and overall well-being.\"\n",
    "\"Prioritize Physical Activity and Social Connections: Regular physical activity can help to reduce stress and improve your mood, while maintaining social connections can provide emotional support and a sense of belonging.\"\n",
    "\"Use a Planner or Digital Calendar: This can help you to track deadlines and events, and manage your time more effectively. You can schedule study blocks and free time to prevent burnout, and prioritize tasks based on their urgency and importance.\"\n",
    "\"Learn to Say No: If social invites clash with crucial deadlines, it's important to prioritize your academic responsibilities. However, remember to celebrate small academic wins to stay motivated and feel a sense of achievement.\"\n",
    "    },\n",
    "    # You can add more test items as needed...\n",
    "]\n",
    "\n",
    "# Convert the test data into a pandas DataFrame for easier manipulation and review\n",
    "df = pd.DataFrame(test_data)\n",
    "print(df)\n"
   ]
  },
  {
   "cell_type": "code",
   "execution_count": 8,
   "id": "9baf1c50",
   "metadata": {},
   "outputs": [],
   "source": [
    "def compute_f1(candidate, reference):\n",
    "    \"\"\"\n",
    "    Compute token-level F1 score between candidate and reference strings.\n",
    "    \"\"\"\n",
    "    # Tokenize and convert to lower case for consistency\n",
    "    candidate_tokens = word_tokenize(candidate.lower())\n",
    "    reference_tokens = word_tokenize(reference.lower())\n",
    "    \n",
    "    # Count the overlapping tokens (accounting for frequency)\n",
    "    common = Counter(candidate_tokens) & Counter(reference_tokens)\n",
    "    num_same = sum(common.values())\n",
    "    \n",
    "    if num_same == 0:\n",
    "        return 0.0\n",
    "\n",
    "    precision = num_same / len(candidate_tokens)\n",
    "    recall = num_same / len(reference_tokens)\n",
    "    f1 = 2 * precision * recall / (precision + recall)\n",
    "    return f1\n"
   ]
  },
  {
   "cell_type": "code",
   "execution_count": 9,
   "id": "9497217d",
   "metadata": {},
   "outputs": [],
   "source": [
    "from nltk.translate.bleu_score import sentence_bleu, SmoothingFunction\n",
    "\n",
    "# Create a smoothing function instance (helps when sentences are short)\n",
    "cc = SmoothingFunction()\n",
    "\n",
    "def compute_bleu(candidate, references):\n",
    "    \"\"\"\n",
    "    Compute the BLEU score for a candidate response against multiple reference responses.\n",
    "    \"\"\"\n",
    "    candidate_tokens = word_tokenize(candidate.lower())\n",
    "    references_tokens = [word_tokenize(ref.lower()) for ref in references]\n",
    "    \n",
    "    # Calculate BLEU score with smoothing\n",
    "    bleu_score = sentence_bleu(references_tokens, candidate_tokens, smoothing_function=cc.method1)\n",
    "    return bleu_score\n"
   ]
  },
  {
   "cell_type": "code",
   "execution_count": 10,
   "id": "4ff81e80",
   "metadata": {},
   "outputs": [],
   "source": [
    "def compute_rouge(candidate, references):\n",
    "    \"\"\"\n",
    "    Compute average ROUGE-1 and ROUGE-L f-measures for the candidate against multiple references.\n",
    "    \"\"\"\n",
    "    scorer = rouge_scorer.RougeScorer(['rouge1', 'rougeL'], use_stemmer=True)\n",
    "    \n",
    "    # Calculate ROUGE scores for each reference response\n",
    "    scores = [scorer.score(ref, candidate) for ref in references]\n",
    "    \n",
    "    avg_scores = {}\n",
    "    for key in scores[0].keys():\n",
    "        avg_scores[key] = sum(score[key].fmeasure for score in scores) / len(scores)\n",
    "    return avg_scores\n"
   ]
  },
  {
   "cell_type": "code",
   "execution_count": 12,
   "id": "0ff35017",
   "metadata": {},
   "outputs": [
    {
     "name": "stderr",
     "output_type": "stream",
     "text": [
      "[nltk_data] Downloading package punkt to\n",
      "[nltk_data]     C:\\Users\\osato\\AppData\\Roaming\\nltk_data...\n",
      "[nltk_data]   Package punkt is already up-to-date!\n",
      "Some weights of RobertaModel were not initialized from the model checkpoint at roberta-large and are newly initialized: ['roberta.pooler.dense.bias', 'roberta.pooler.dense.weight']\n",
      "You should probably TRAIN this model on a down-stream task to be able to use it for predictions and inference.\n",
      "Some weights of RobertaModel were not initialized from the model checkpoint at roberta-large and are newly initialized: ['roberta.pooler.dense.bias', 'roberta.pooler.dense.weight']\n",
      "You should probably TRAIN this model on a down-stream task to be able to use it for predictions and inference.\n",
      "Some weights of RobertaModel were not initialized from the model checkpoint at roberta-large and are newly initialized: ['roberta.pooler.dense.bias', 'roberta.pooler.dense.weight']\n",
      "You should probably TRAIN this model on a down-stream task to be able to use it for predictions and inference.\n",
      "Some weights of RobertaModel were not initialized from the model checkpoint at roberta-large and are newly initialized: ['roberta.pooler.dense.bias', 'roberta.pooler.dense.weight']\n",
      "You should probably TRAIN this model on a down-stream task to be able to use it for predictions and inference.\n",
      "Some weights of RobertaModel were not initialized from the model checkpoint at roberta-large and are newly initialized: ['roberta.pooler.dense.bias', 'roberta.pooler.dense.weight']\n",
      "You should probably TRAIN this model on a down-stream task to be able to use it for predictions and inference.\n",
      "Some weights of RobertaModel were not initialized from the model checkpoint at roberta-large and are newly initialized: ['roberta.pooler.dense.bias', 'roberta.pooler.dense.weight']\n",
      "You should probably TRAIN this model on a down-stream task to be able to use it for predictions and inference.\n"
     ]
    },
    {
     "name": "stdout",
     "output_type": "stream",
     "text": [
      "                                          User Query  \\\n",
      "0  I’m feeling overwhelmed with coursework deadli...   \n",
      "1  How can I balance studies and personal life wi...   \n",
      "\n",
      "                                  Candidate Response  F1 Score  BLEU Score  \\\n",
      "0  Create a Master Calendar: Use a digital tool l...  0.131455    0.022593   \n",
      "1  Create a Structured Daily Schedule: Designate ...  0.121212    0.005283   \n",
      "\n",
      "    ROUGE-1   ROUGE-L  BERTScore F1  \n",
      "0  0.106902  0.083468      0.865677  \n",
      "1  0.094401  0.075503      0.868632  \n"
     ]
    }
   ],
   "source": [
    "import nltk\n",
    "nltk.download('punkt')\n",
    "from nltk.tokenize import word_tokenize\n",
    "from nltk.translate.bleu_score import sentence_bleu, SmoothingFunction\n",
    "from collections import Counter  # Importing Counter here\n",
    "from rouge_score import rouge_scorer\n",
    "from bert_score import score\n",
    "\n",
    "results = []\n",
    "\n",
    "for idx, row in df.iterrows():\n",
    "    user_query = row[\"User Query\"]\n",
    "    references = row[\"Reference Responses\"]\n",
    "    candidate = row[\"Candidate Responses\"]\n",
    "    \n",
    "    # Existing evaluation metrics\n",
    "    f1_scores = [compute_f1(candidate, ref) for ref in references]\n",
    "    best_f1 = max(f1_scores)\n",
    "    bleu = compute_bleu(candidate, references)\n",
    "    rouge = compute_rouge(candidate, references)\n",
    "    \n",
    "    # Compute BERTScore:\n",
    "    # Here, we'll compute the maximum BERTScore across references.\n",
    "    bert_f1_scores = []\n",
    "    for ref in references:\n",
    "        _, _, bert_F1 = score([candidate], [ref], lang=\"en\", verbose=False)\n",
    "        bert_f1_scores.append(bert_F1[0].item())\n",
    "    max_bert_f1 = max(bert_f1_scores)\n",
    "    \n",
    "    results.append({\n",
    "        \"User Query\": user_query,\n",
    "        \"Candidate Response\": candidate,\n",
    "        \"F1 Score\": best_f1,\n",
    "        \"BLEU Score\": bleu,\n",
    "        \"ROUGE-1\": rouge['rouge1'],\n",
    "        \"ROUGE-L\": rouge['rougeL'],\n",
    "        \"BERTScore F1\": max_bert_f1\n",
    "    })\n",
    "\n",
    "results_df = pd.DataFrame(results)\n",
    "print(results_df)\n"
   ]
  },
  {
   "cell_type": "code",
   "execution_count": 14,
   "id": "19d15d3f",
   "metadata": {},
   "outputs": [
    {
     "name": "stderr",
     "output_type": "stream",
     "text": [
      "No model was supplied, defaulted to distilbert/distilbert-base-uncased-finetuned-sst-2-english and revision 714eb0f (https://huggingface.co/distilbert/distilbert-base-uncased-finetuned-sst-2-english).\n",
      "Using a pipeline without specifying a model name and revision in production is not recommended.\n"
     ]
    },
    {
     "name": "stdout",
     "output_type": "stream",
     "text": [
      "                                 Candidate Responses Sentiment  \\\n",
      "0  Create a Master Calendar: Use a digital tool l...  POSITIVE   \n",
      "1  Create a Structured Daily Schedule: Designate ...  POSITIVE   \n",
      "\n",
      "   Sentiment Score  \n",
      "0         0.938456  \n",
      "1         0.997873  \n"
     ]
    }
   ],
   "source": [
    "import pandas as pd\n",
    "from transformers import pipeline\n",
    "\n",
    "# Initialize the sentiment analysis pipeline\n",
    "sentiment_analyzer = pipeline(\"sentiment-analysis\")\n",
    "\n",
    "# Define the sentiment analysis function\n",
    "def analyze_sentiment(response):\n",
    "    result = sentiment_analyzer(response)\n",
    "    # Extract the label and score from the result\n",
    "    return result[0][\"label\"], result[0][\"score\"]\n",
    "\n",
    "# Assuming your DataFrame has a column named \"Candidate Response\"\n",
    "# If your column is actually \"Candidate Responses\", adjust accordingly.\n",
    "df[\"Sentiment\"], df[\"Sentiment Score\"] = zip(*df[\"Candidate Responses\"].apply(analyze_sentiment))\n",
    "\n",
    "# Print the DataFrame columns to verify\n",
    "print(df[[\"Candidate Responses\", \"Sentiment\", \"Sentiment Score\"]])\n"
   ]
  },
  {
   "cell_type": "code",
   "execution_count": 13,
   "id": "184f75b6",
   "metadata": {},
   "outputs": [
    {
     "name": "stdout",
     "output_type": "stream",
     "text": [
      "Collecting bert-scoreNote: you may need to restart the kernel to use updated packages.\n",
      "\n",
      "  Obtaining dependency information for bert-score from https://files.pythonhosted.org/packages/c6/8c/bc5457de4c004b1a623b31f7bc8d0375fb699b7d67df11879098b4b7b7c8/bert_score-0.3.13-py3-none-any.whl.metadata\n",
      "  Downloading bert_score-0.3.13-py3-none-any.whl.metadata (15 kB)\n",
      "Requirement already satisfied: torch>=1.0.0 in c:\\users\\osato\\anaconda3\\lib\\site-packages (from bert-score) (2.5.1)\n",
      "Requirement already satisfied: pandas>=1.0.1 in c:\\users\\osato\\anaconda3\\lib\\site-packages (from bert-score) (2.2.3)\n",
      "Requirement already satisfied: transformers>=3.0.0 in c:\\users\\osato\\anaconda3\\lib\\site-packages (from bert-score) (4.46.3)\n",
      "Requirement already satisfied: numpy in c:\\users\\osato\\anaconda3\\lib\\site-packages (from bert-score) (1.26.4)\n",
      "Requirement already satisfied: requests in c:\\users\\osato\\anaconda3\\lib\\site-packages (from bert-score) (2.32.3)\n",
      "Requirement already satisfied: tqdm>=4.31.1 in c:\\users\\osato\\anaconda3\\lib\\site-packages (from bert-score) (4.67.1)\n",
      "Requirement already satisfied: matplotlib in c:\\users\\osato\\anaconda3\\lib\\site-packages (from bert-score) (3.7.2)\n",
      "Requirement already satisfied: packaging>=20.9 in c:\\users\\osato\\anaconda3\\lib\\site-packages (from bert-score) (23.1)\n",
      "Requirement already satisfied: python-dateutil>=2.8.2 in c:\\users\\osato\\anaconda3\\lib\\site-packages (from pandas>=1.0.1->bert-score) (2.8.2)\n",
      "Requirement already satisfied: pytz>=2020.1 in c:\\users\\osato\\anaconda3\\lib\\site-packages (from pandas>=1.0.1->bert-score) (2023.3.post1)\n",
      "Requirement already satisfied: tzdata>=2022.7 in c:\\users\\osato\\anaconda3\\lib\\site-packages (from pandas>=1.0.1->bert-score) (2023.3)\n",
      "Requirement already satisfied: filelock in c:\\users\\osato\\anaconda3\\lib\\site-packages (from torch>=1.0.0->bert-score) (3.9.0)\n",
      "Requirement already satisfied: typing-extensions>=4.8.0 in c:\\users\\osato\\anaconda3\\lib\\site-packages (from torch>=1.0.0->bert-score) (4.12.2)\n",
      "Requirement already satisfied: networkx in c:\\users\\osato\\anaconda3\\lib\\site-packages (from torch>=1.0.0->bert-score) (3.1)\n",
      "Requirement already satisfied: jinja2 in c:\\users\\osato\\anaconda3\\lib\\site-packages (from torch>=1.0.0->bert-score) (3.1.2)\n",
      "Requirement already satisfied: fsspec in c:\\users\\osato\\anaconda3\\lib\\site-packages (from torch>=1.0.0->bert-score) (2024.9.0)\n",
      "Requirement already satisfied: sympy==1.13.1 in c:\\users\\osato\\anaconda3\\lib\\site-packages (from torch>=1.0.0->bert-score) (1.13.1)\n",
      "Requirement already satisfied: mpmath<1.4,>=1.1.0 in c:\\users\\osato\\anaconda3\\lib\\site-packages (from sympy==1.13.1->torch>=1.0.0->bert-score) (1.3.0)\n",
      "Requirement already satisfied: colorama in c:\\users\\osato\\anaconda3\\lib\\site-packages (from tqdm>=4.31.1->bert-score) (0.4.6)\n",
      "Requirement already satisfied: huggingface-hub<1.0,>=0.23.2 in c:\\users\\osato\\anaconda3\\lib\\site-packages (from transformers>=3.0.0->bert-score) (0.26.2)\n",
      "Requirement already satisfied: pyyaml>=5.1 in c:\\users\\osato\\anaconda3\\lib\\site-packages (from transformers>=3.0.0->bert-score) (6.0)\n",
      "Requirement already satisfied: regex!=2019.12.17 in c:\\users\\osato\\anaconda3\\lib\\site-packages (from transformers>=3.0.0->bert-score) (2022.7.9)\n",
      "Requirement already satisfied: tokenizers<0.21,>=0.20 in c:\\users\\osato\\anaconda3\\lib\\site-packages (from transformers>=3.0.0->bert-score) (0.20.3)\n",
      "Requirement already satisfied: safetensors>=0.4.1 in c:\\users\\osato\\anaconda3\\lib\\site-packages (from transformers>=3.0.0->bert-score) (0.4.5)\n",
      "Requirement already satisfied: contourpy>=1.0.1 in c:\\users\\osato\\anaconda3\\lib\\site-packages (from matplotlib->bert-score) (1.0.5)\n",
      "Requirement already satisfied: cycler>=0.10 in c:\\users\\osato\\anaconda3\\lib\\site-packages (from matplotlib->bert-score) (0.11.0)\n",
      "Requirement already satisfied: fonttools>=4.22.0 in c:\\users\\osato\\anaconda3\\lib\\site-packages (from matplotlib->bert-score) (4.25.0)\n",
      "Requirement already satisfied: kiwisolver>=1.0.1 in c:\\users\\osato\\anaconda3\\lib\\site-packages (from matplotlib->bert-score) (1.4.4)\n",
      "Requirement already satisfied: pillow>=6.2.0 in c:\\users\\osato\\anaconda3\\lib\\site-packages (from matplotlib->bert-score) (10.0.1)\n",
      "Requirement already satisfied: pyparsing<3.1,>=2.3.1 in c:\\users\\osato\\anaconda3\\lib\\site-packages (from matplotlib->bert-score) (2.4.7)\n",
      "Requirement already satisfied: charset-normalizer<4,>=2 in c:\\users\\osato\\anaconda3\\lib\\site-packages (from requests->bert-score) (2.0.4)\n",
      "Requirement already satisfied: idna<4,>=2.5 in c:\\users\\osato\\anaconda3\\lib\\site-packages (from requests->bert-score) (3.4)\n",
      "Requirement already satisfied: urllib3<3,>=1.21.1 in c:\\users\\osato\\anaconda3\\lib\\site-packages (from requests->bert-score) (1.26.16)\n",
      "Requirement already satisfied: certifi>=2017.4.17 in c:\\users\\osato\\anaconda3\\lib\\site-packages (from requests->bert-score) (2024.8.30)\n",
      "Requirement already satisfied: six>=1.5 in c:\\users\\osato\\anaconda3\\lib\\site-packages (from python-dateutil>=2.8.2->pandas>=1.0.1->bert-score) (1.16.0)\n",
      "Requirement already satisfied: MarkupSafe>=2.0 in c:\\users\\osato\\anaconda3\\lib\\site-packages (from jinja2->torch>=1.0.0->bert-score) (2.1.1)\n",
      "Downloading bert_score-0.3.13-py3-none-any.whl (61 kB)\n",
      "   ---------------------------------------- 0.0/61.1 kB ? eta -:--:--\n",
      "   ------ --------------------------------- 10.2/61.1 kB ? eta -:--:--\n",
      "   --------------------------------- ------ 51.2/61.1 kB 660.6 kB/s eta 0:00:01\n",
      "   ---------------------------------------- 61.1/61.1 kB 820.9 kB/s eta 0:00:00\n",
      "Installing collected packages: bert-score\n",
      "Successfully installed bert-score-0.3.13\n"
     ]
    }
   ],
   "source": [
    "pip install bert-score"
   ]
  },
  {
   "cell_type": "code",
   "execution_count": null,
   "id": "25d01556",
   "metadata": {},
   "outputs": [],
   "source": []
  }
 ],
 "metadata": {
  "kernelspec": {
   "display_name": "Python 3 (ipykernel)",
   "language": "python",
   "name": "python3"
  },
  "language_info": {
   "codemirror_mode": {
    "name": "ipython",
    "version": 3
   },
   "file_extension": ".py",
   "mimetype": "text/x-python",
   "name": "python",
   "nbconvert_exporter": "python",
   "pygments_lexer": "ipython3",
   "version": "3.11.5"
  }
 },
 "nbformat": 4,
 "nbformat_minor": 5
}
