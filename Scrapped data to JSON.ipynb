{
 "cells": [
  {
   "cell_type": "code",
   "execution_count": 3,
   "id": "b3bc643e",
   "metadata": {},
   "outputs": [
    {
     "name": "stdout",
     "output_type": "stream",
     "text": [
      "Markdown file created successfully: scraped_data.md\n"
     ]
    }
   ],
   "source": [
    "import json\n",
    "\n",
    "# Load the JSON data\n",
    "with open(\"scraped_data.json\", \"r\") as f:\n",
    "    data = json.load(f)\n",
    "\n",
    "# Convert JSON to markdown\n",
    "markdown_output = \"\"\n",
    "for item in data:\n",
    "    markdown_output += f\"- Q: {item['question']}\\n\"\n",
    "    markdown_output += f\"  A: {item['answer']}\\n\\n\"\n",
    "\n",
    "# Save the markdown content to a file\n",
    "with open(\"scraped_data.md\", \"w\") as f:\n",
    "    f.write(markdown_output)\n",
    "\n",
    "print(\"Markdown file created successfully: scraped_data.md\")"
   ]
  },
  {
   "cell_type": "code",
   "execution_count": null,
   "id": "736054d4",
   "metadata": {},
   "outputs": [],
   "source": []
  }
 ],
 "metadata": {
  "kernelspec": {
   "display_name": "Python 3 (ipykernel)",
   "language": "python",
   "name": "python3"
  },
  "language_info": {
   "codemirror_mode": {
    "name": "ipython",
    "version": 3
   },
   "file_extension": ".py",
   "mimetype": "text/x-python",
   "name": "python",
   "nbconvert_exporter": "python",
   "pygments_lexer": "ipython3",
   "version": "3.11.5"
  }
 },
 "nbformat": 4,
 "nbformat_minor": 5
}
