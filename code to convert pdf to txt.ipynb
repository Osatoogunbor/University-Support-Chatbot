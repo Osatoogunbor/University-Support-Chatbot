{
 "cells": [
  {
   "cell_type": "code",
   "execution_count": 1,
   "id": "ee1b611d",
   "metadata": {},
   "outputs": [
    {
     "name": "stdout",
     "output_type": "stream",
     "text": [
      "Converted: 170901_student_voices_report_final.pdf -> 170901_student_voices_report_final.txt\n",
      "Converted: interactive_laym_guide.pdf -> interactive_laym_guide.txt\n",
      "Converted: student_pack.pdf -> student_pack.txt\n",
      "Converted: WLV-A4-8PP-Brochure-Proof-5-(2).pdf -> WLV-A4-8PP-Brochure-Proof-5-(2).txt\n",
      "All PDFs have been converted to TXT!\n"
     ]
    }
   ],
   "source": [
    "import os\n",
    "import fitz  # PyMuPDF\n",
    "\n",
    "def convert_pdf_to_txt(pdf_path, txt_path):\n",
    "    \"\"\"Extract text from a single PDF file and save as TXT\"\"\"\n",
    "    text = \"\"\n",
    "    with fitz.open(pdf_path) as doc:\n",
    "        for page in doc:\n",
    "            text += page.get_text() + \"\\n\"\n",
    "    with open(txt_path, \"w\", encoding=\"utf-8\") as f:\n",
    "        f.write(text)\n",
    "\n",
    "def convert_all_pdfs_in_folder(input_folder, output_folder):\n",
    "    \"\"\"Convert all PDFs in a folder to TXT files\"\"\"\n",
    "    if not os.path.exists(output_folder):\n",
    "        os.makedirs(output_folder)\n",
    "\n",
    "    for filename in os.listdir(input_folder):\n",
    "        if filename.endswith(\".pdf\"):\n",
    "            pdf_path = os.path.join(input_folder, filename)\n",
    "            txt_filename = filename.replace(\".pdf\", \".txt\")\n",
    "            txt_path = os.path.join(output_folder, txt_filename)\n",
    "            \n",
    "            convert_pdf_to_txt(pdf_path, txt_path)\n",
    "            print(f\"Converted: {filename} -> {txt_filename}\")\n",
    "\n",
    "# Example Usage - Replace with your actual paths\n",
    "convert_all_pdfs_in_folder(\"C:/Users/osato/Downloads/pdf_documents\", \n",
    "                           \"C:/Users/osato/Downloads/extracted_txt/\")\n",
    "\n",
    "print(\"All PDFs have been converted to TXT!\")\n"
   ]
  },
  {
   "cell_type": "code",
   "execution_count": null,
   "id": "e8b6ef79",
   "metadata": {},
   "outputs": [],
   "source": []
  }
 ],
 "metadata": {
  "kernelspec": {
   "display_name": "Python 3 (ipykernel)",
   "language": "python",
   "name": "python3"
  },
  "language_info": {
   "codemirror_mode": {
    "name": "ipython",
    "version": 3
   },
   "file_extension": ".py",
   "mimetype": "text/x-python",
   "name": "python",
   "nbconvert_exporter": "python",
   "pygments_lexer": "ipython3",
   "version": "3.11.5"
  }
 },
 "nbformat": 4,
 "nbformat_minor": 5
}
